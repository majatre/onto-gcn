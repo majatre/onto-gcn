{
 "cells": [
  {
   "cell_type": "code",
   "execution_count": 1,
   "metadata": {},
   "outputs": [],
   "source": [
    "import sys\n",
    "sys.path.append('../')\n",
    "\n",
    "import meta_dataloader.TCGA\n",
    "\n",
    "import models.mlp, models.gcn\n",
    "import numpy as np\n",
    "import data.gene_graphs\n",
    "import collections\n",
    "import sklearn.metrics\n",
    "import sklearn.model_selection\n",
    "import pandas as pd\n",
    "%load_ext autoreload\n",
    "%autoreload 2\n",
    "\n",
    "import torch"
   ]
  },
  {
   "cell_type": "code",
   "execution_count": 2,
   "metadata": {},
   "outputs": [
    {
     "name": "stderr",
     "output_type": "stream",
     "text": [
      "/auto/homes/mt675/gene-graph-conv-onto/venv/lib/python3.6/site-packages/IPython/core/interactiveshell.py:3063: DtypeWarning: Columns (20,21) have mixed types.Specify dtype option on import or set low_memory=False.\n",
      "  interactivity=interactivity, compiler=compiler, result=result)\n"
     ]
    }
   ],
   "source": [
    "path = \"../data/MBdata_original.csv\"\n",
    "df = pd.read_csv(path)\n",
    "\n",
    "df = df[df.Pam50Subtype != '?']\n",
    "target = df.pop('Pam50Subtype')\n",
    "pam50_lables = {\n",
    "    'Normal': 0,\n",
    "    'LumA': 1,\n",
    "    'LumB': 2,\n",
    "    'Basal': 3,\n",
    "    'Her2': 4\n",
    "}\n",
    "target = target.apply(lambda x: pam50_lables[x])\n",
    "\n",
    "features = df.filter(regex='^GE.*')\n",
    "features = features.astype('float64')"
   ]
  },
  {
   "cell_type": "code",
   "execution_count": 3,
   "metadata": {},
   "outputs": [],
   "source": [
    "def normalize(df):\n",
    "    r = df.copy()\n",
    "    for feature_name in df.columns:\n",
    "        max_value = df[feature_name].max()\n",
    "        min_value = df[feature_name].min()\n",
    "        if max_value != min_value:\n",
    "          r[feature_name] = (df[feature_name] - min_value) / (max_value - min_value)\n",
    "    return r"
   ]
  },
  {
   "cell_type": "code",
   "execution_count": 4,
   "metadata": {},
   "outputs": [
    {
     "name": "stderr",
     "output_type": "stream",
     "text": [
      "INFO:numexpr.utils:NumExpr defaulting to 8 threads.\n"
     ]
    }
   ],
   "source": [
    "features = df.filter(regex='^GE.*')\n",
    "features = normalize(features)\n",
    "features.replace([np.inf, -np.inf, np.nan], 0, inplace=True)\n",
    "features = features.rename(columns={g: g[3:] for g in list(features.columns)})"
   ]
  },
  {
   "cell_type": "code",
   "execution_count": 5,
   "metadata": {},
   "outputs": [],
   "source": [
    "X_train, X_test, y_train, y_test = sklearn.model_selection.train_test_split(features, \n",
    "                                                                        target.to_numpy(), \n",
    "                                                                        stratify=target.to_numpy(),\n",
    "                                                                        train_size=100,\n",
    "                                                                        test_size=400,\n",
    "                                                                        shuffle=True,\n",
    "                                                                        random_state=0\n",
    "                                                                        )\n",
    "\n",
    "\n"
   ]
  },
  {
   "cell_type": "code",
   "execution_count": 86,
   "metadata": {},
   "outputs": [
    {
     "name": "stdout",
     "output_type": "stream",
     "text": [
      " loaded genes. nodes=17591\n"
     ]
    },
    {
     "name": "stderr",
     "output_type": "stream",
     "text": [
      "17591it [00:35, 495.32it/s]\n"
     ]
    },
    {
     "name": "stdout",
     "output_type": "stream",
     "text": [
      " loaded edges=1558172\n",
      " writing graph\n"
     ]
    }
   ],
   "source": [
    "from data.gene_graphs import GeneManiaGraph, OntologyGraph, StringDBGraph\n",
    "gene_graph =  OntologyGraph(neighbors=101, embeddings_name='dl2vec')"
   ]
  },
  {
   "cell_type": "code",
   "execution_count": 87,
   "metadata": {},
   "outputs": [],
   "source": [
    "gene = 'ESR1'\n",
    "num_genes = 20000\n",
    "neighbors = gene_graph.bfs_sample_neighbors(gene, num_genes*1.5)\n",
    "intersection_nodes = np.intersect1d(X_train.columns, neighbors.nodes)\n",
    "\n",
    "x_train = X_train[list(intersection_nodes)[:num_genes]].copy()\n",
    "x_test = X_test[list(intersection_nodes)[:num_genes]].copy()\n",
    "\n",
    "toremove = set(neighbors.nodes)\n",
    "toremove = toremove.difference(intersection_nodes)\n",
    "neighbors.remove_nodes_from(toremove)"
   ]
  },
  {
   "cell_type": "code",
   "execution_count": 88,
   "metadata": {},
   "outputs": [
    {
     "data": {
      "text/html": [
       "<div>\n",
       "<style scoped>\n",
       "    .dataframe tbody tr th:only-of-type {\n",
       "        vertical-align: middle;\n",
       "    }\n",
       "\n",
       "    .dataframe tbody tr th {\n",
       "        vertical-align: top;\n",
       "    }\n",
       "\n",
       "    .dataframe thead th {\n",
       "        text-align: right;\n",
       "    }\n",
       "</style>\n",
       "<table border=\"1\" class=\"dataframe\">\n",
       "  <thead>\n",
       "    <tr style=\"text-align: right;\">\n",
       "      <th></th>\n",
       "      <th>A1BG</th>\n",
       "      <th>A1CF</th>\n",
       "      <th>A2M</th>\n",
       "      <th>A3GALT2</th>\n",
       "      <th>A4GALT</th>\n",
       "      <th>A4GNT</th>\n",
       "      <th>AAAS</th>\n",
       "      <th>AACS</th>\n",
       "      <th>AADAC</th>\n",
       "      <th>AADACL2</th>\n",
       "      <th>...</th>\n",
       "      <th>ZWILCH</th>\n",
       "      <th>ZWINT</th>\n",
       "      <th>ZXDA</th>\n",
       "      <th>ZXDB</th>\n",
       "      <th>ZXDC</th>\n",
       "      <th>ZYG11A</th>\n",
       "      <th>ZYG11B</th>\n",
       "      <th>ZYX</th>\n",
       "      <th>ZZEF1</th>\n",
       "      <th>ZZZ3</th>\n",
       "    </tr>\n",
       "  </thead>\n",
       "  <tbody>\n",
       "    <tr>\n",
       "      <th>1294</th>\n",
       "      <td>0.636301</td>\n",
       "      <td>0.147265</td>\n",
       "      <td>0.134259</td>\n",
       "      <td>0.297461</td>\n",
       "      <td>0.512303</td>\n",
       "      <td>0.393817</td>\n",
       "      <td>0.247217</td>\n",
       "      <td>0.112401</td>\n",
       "      <td>0.079587</td>\n",
       "      <td>0.121226</td>\n",
       "      <td>...</td>\n",
       "      <td>0.132780</td>\n",
       "      <td>0.388961</td>\n",
       "      <td>0.572912</td>\n",
       "      <td>0.340735</td>\n",
       "      <td>0.493843</td>\n",
       "      <td>0.189562</td>\n",
       "      <td>0.407518</td>\n",
       "      <td>0.603684</td>\n",
       "      <td>0.739919</td>\n",
       "      <td>0.260905</td>\n",
       "    </tr>\n",
       "    <tr>\n",
       "      <th>837</th>\n",
       "      <td>0.458253</td>\n",
       "      <td>0.138490</td>\n",
       "      <td>0.469556</td>\n",
       "      <td>0.595413</td>\n",
       "      <td>0.275540</td>\n",
       "      <td>0.202664</td>\n",
       "      <td>0.232734</td>\n",
       "      <td>0.215425</td>\n",
       "      <td>0.121300</td>\n",
       "      <td>0.150613</td>\n",
       "      <td>...</td>\n",
       "      <td>0.151944</td>\n",
       "      <td>0.208716</td>\n",
       "      <td>0.597135</td>\n",
       "      <td>0.324473</td>\n",
       "      <td>0.597460</td>\n",
       "      <td>0.137628</td>\n",
       "      <td>0.463331</td>\n",
       "      <td>0.664662</td>\n",
       "      <td>0.934488</td>\n",
       "      <td>0.406994</td>\n",
       "    </tr>\n",
       "    <tr>\n",
       "      <th>1621</th>\n",
       "      <td>0.501620</td>\n",
       "      <td>0.162249</td>\n",
       "      <td>0.331539</td>\n",
       "      <td>0.517617</td>\n",
       "      <td>0.224598</td>\n",
       "      <td>0.352779</td>\n",
       "      <td>0.269712</td>\n",
       "      <td>0.389618</td>\n",
       "      <td>0.133153</td>\n",
       "      <td>0.120376</td>\n",
       "      <td>...</td>\n",
       "      <td>0.138593</td>\n",
       "      <td>0.179974</td>\n",
       "      <td>0.381344</td>\n",
       "      <td>0.051494</td>\n",
       "      <td>0.582036</td>\n",
       "      <td>0.098780</td>\n",
       "      <td>0.392550</td>\n",
       "      <td>0.707985</td>\n",
       "      <td>0.542029</td>\n",
       "      <td>0.273688</td>\n",
       "    </tr>\n",
       "    <tr>\n",
       "      <th>705</th>\n",
       "      <td>0.320893</td>\n",
       "      <td>0.113174</td>\n",
       "      <td>0.553758</td>\n",
       "      <td>0.567101</td>\n",
       "      <td>0.168377</td>\n",
       "      <td>0.385363</td>\n",
       "      <td>0.306095</td>\n",
       "      <td>0.229193</td>\n",
       "      <td>0.162149</td>\n",
       "      <td>0.186637</td>\n",
       "      <td>...</td>\n",
       "      <td>0.196402</td>\n",
       "      <td>0.125435</td>\n",
       "      <td>0.382977</td>\n",
       "      <td>0.220131</td>\n",
       "      <td>0.327394</td>\n",
       "      <td>0.164213</td>\n",
       "      <td>0.347799</td>\n",
       "      <td>0.582531</td>\n",
       "      <td>0.626735</td>\n",
       "      <td>0.347536</td>\n",
       "    </tr>\n",
       "    <tr>\n",
       "      <th>783</th>\n",
       "      <td>0.520771</td>\n",
       "      <td>0.101000</td>\n",
       "      <td>0.449263</td>\n",
       "      <td>0.549906</td>\n",
       "      <td>0.355561</td>\n",
       "      <td>0.367882</td>\n",
       "      <td>0.436045</td>\n",
       "      <td>0.347727</td>\n",
       "      <td>0.113716</td>\n",
       "      <td>0.139733</td>\n",
       "      <td>...</td>\n",
       "      <td>0.267811</td>\n",
       "      <td>0.350238</td>\n",
       "      <td>0.518407</td>\n",
       "      <td>0.203420</td>\n",
       "      <td>0.335965</td>\n",
       "      <td>0.149116</td>\n",
       "      <td>0.467493</td>\n",
       "      <td>0.485741</td>\n",
       "      <td>0.721266</td>\n",
       "      <td>0.397768</td>\n",
       "    </tr>\n",
       "    <tr>\n",
       "      <th>...</th>\n",
       "      <td>...</td>\n",
       "      <td>...</td>\n",
       "      <td>...</td>\n",
       "      <td>...</td>\n",
       "      <td>...</td>\n",
       "      <td>...</td>\n",
       "      <td>...</td>\n",
       "      <td>...</td>\n",
       "      <td>...</td>\n",
       "      <td>...</td>\n",
       "      <td>...</td>\n",
       "      <td>...</td>\n",
       "      <td>...</td>\n",
       "      <td>...</td>\n",
       "      <td>...</td>\n",
       "      <td>...</td>\n",
       "      <td>...</td>\n",
       "      <td>...</td>\n",
       "      <td>...</td>\n",
       "      <td>...</td>\n",
       "      <td>...</td>\n",
       "    </tr>\n",
       "    <tr>\n",
       "      <th>1809</th>\n",
       "      <td>0.374074</td>\n",
       "      <td>0.055278</td>\n",
       "      <td>0.432433</td>\n",
       "      <td>0.416246</td>\n",
       "      <td>0.249548</td>\n",
       "      <td>0.330350</td>\n",
       "      <td>0.236124</td>\n",
       "      <td>0.163306</td>\n",
       "      <td>0.111365</td>\n",
       "      <td>0.164631</td>\n",
       "      <td>...</td>\n",
       "      <td>0.259699</td>\n",
       "      <td>0.493719</td>\n",
       "      <td>0.454614</td>\n",
       "      <td>0.268301</td>\n",
       "      <td>0.445756</td>\n",
       "      <td>0.210657</td>\n",
       "      <td>0.293436</td>\n",
       "      <td>0.522969</td>\n",
       "      <td>0.492630</td>\n",
       "      <td>0.265062</td>\n",
       "    </tr>\n",
       "    <tr>\n",
       "      <th>820</th>\n",
       "      <td>0.408940</td>\n",
       "      <td>0.137501</td>\n",
       "      <td>0.502431</td>\n",
       "      <td>0.641476</td>\n",
       "      <td>0.357350</td>\n",
       "      <td>0.381450</td>\n",
       "      <td>0.306619</td>\n",
       "      <td>0.201469</td>\n",
       "      <td>0.146445</td>\n",
       "      <td>0.138753</td>\n",
       "      <td>...</td>\n",
       "      <td>0.225571</td>\n",
       "      <td>0.349179</td>\n",
       "      <td>0.416444</td>\n",
       "      <td>0.110326</td>\n",
       "      <td>0.369813</td>\n",
       "      <td>0.137045</td>\n",
       "      <td>0.279570</td>\n",
       "      <td>0.623411</td>\n",
       "      <td>0.614479</td>\n",
       "      <td>0.343611</td>\n",
       "    </tr>\n",
       "    <tr>\n",
       "      <th>1452</th>\n",
       "      <td>0.492988</td>\n",
       "      <td>0.138968</td>\n",
       "      <td>0.612952</td>\n",
       "      <td>0.600142</td>\n",
       "      <td>0.469619</td>\n",
       "      <td>0.330885</td>\n",
       "      <td>0.298594</td>\n",
       "      <td>0.230955</td>\n",
       "      <td>0.122827</td>\n",
       "      <td>0.128361</td>\n",
       "      <td>...</td>\n",
       "      <td>0.219100</td>\n",
       "      <td>0.169508</td>\n",
       "      <td>0.409179</td>\n",
       "      <td>0.325230</td>\n",
       "      <td>0.379185</td>\n",
       "      <td>0.180482</td>\n",
       "      <td>0.534211</td>\n",
       "      <td>0.633205</td>\n",
       "      <td>0.613331</td>\n",
       "      <td>0.301850</td>\n",
       "    </tr>\n",
       "    <tr>\n",
       "      <th>558</th>\n",
       "      <td>0.496006</td>\n",
       "      <td>0.084515</td>\n",
       "      <td>0.509258</td>\n",
       "      <td>0.526464</td>\n",
       "      <td>0.572258</td>\n",
       "      <td>0.353164</td>\n",
       "      <td>0.744023</td>\n",
       "      <td>0.176307</td>\n",
       "      <td>0.133995</td>\n",
       "      <td>0.116350</td>\n",
       "      <td>...</td>\n",
       "      <td>0.152378</td>\n",
       "      <td>0.294727</td>\n",
       "      <td>0.449277</td>\n",
       "      <td>0.116760</td>\n",
       "      <td>0.581970</td>\n",
       "      <td>0.065802</td>\n",
       "      <td>0.762843</td>\n",
       "      <td>0.399978</td>\n",
       "      <td>0.736339</td>\n",
       "      <td>0.580970</td>\n",
       "    </tr>\n",
       "    <tr>\n",
       "      <th>1429</th>\n",
       "      <td>0.491350</td>\n",
       "      <td>0.093864</td>\n",
       "      <td>0.330983</td>\n",
       "      <td>0.517372</td>\n",
       "      <td>0.541851</td>\n",
       "      <td>0.369157</td>\n",
       "      <td>0.385509</td>\n",
       "      <td>0.290286</td>\n",
       "      <td>0.105865</td>\n",
       "      <td>0.141208</td>\n",
       "      <td>...</td>\n",
       "      <td>0.130392</td>\n",
       "      <td>0.209023</td>\n",
       "      <td>0.511179</td>\n",
       "      <td>0.266425</td>\n",
       "      <td>0.329435</td>\n",
       "      <td>0.155044</td>\n",
       "      <td>0.488515</td>\n",
       "      <td>0.457506</td>\n",
       "      <td>0.484879</td>\n",
       "      <td>0.306736</td>\n",
       "    </tr>\n",
       "  </tbody>\n",
       "</table>\n",
       "<p>100 rows × 14308 columns</p>\n",
       "</div>"
      ],
      "text/plain": [
       "          A1BG      A1CF       A2M   A3GALT2    A4GALT     A4GNT      AAAS  \\\n",
       "1294  0.636301  0.147265  0.134259  0.297461  0.512303  0.393817  0.247217   \n",
       "837   0.458253  0.138490  0.469556  0.595413  0.275540  0.202664  0.232734   \n",
       "1621  0.501620  0.162249  0.331539  0.517617  0.224598  0.352779  0.269712   \n",
       "705   0.320893  0.113174  0.553758  0.567101  0.168377  0.385363  0.306095   \n",
       "783   0.520771  0.101000  0.449263  0.549906  0.355561  0.367882  0.436045   \n",
       "...        ...       ...       ...       ...       ...       ...       ...   \n",
       "1809  0.374074  0.055278  0.432433  0.416246  0.249548  0.330350  0.236124   \n",
       "820   0.408940  0.137501  0.502431  0.641476  0.357350  0.381450  0.306619   \n",
       "1452  0.492988  0.138968  0.612952  0.600142  0.469619  0.330885  0.298594   \n",
       "558   0.496006  0.084515  0.509258  0.526464  0.572258  0.353164  0.744023   \n",
       "1429  0.491350  0.093864  0.330983  0.517372  0.541851  0.369157  0.385509   \n",
       "\n",
       "          AACS     AADAC   AADACL2  ...    ZWILCH     ZWINT      ZXDA  \\\n",
       "1294  0.112401  0.079587  0.121226  ...  0.132780  0.388961  0.572912   \n",
       "837   0.215425  0.121300  0.150613  ...  0.151944  0.208716  0.597135   \n",
       "1621  0.389618  0.133153  0.120376  ...  0.138593  0.179974  0.381344   \n",
       "705   0.229193  0.162149  0.186637  ...  0.196402  0.125435  0.382977   \n",
       "783   0.347727  0.113716  0.139733  ...  0.267811  0.350238  0.518407   \n",
       "...        ...       ...       ...  ...       ...       ...       ...   \n",
       "1809  0.163306  0.111365  0.164631  ...  0.259699  0.493719  0.454614   \n",
       "820   0.201469  0.146445  0.138753  ...  0.225571  0.349179  0.416444   \n",
       "1452  0.230955  0.122827  0.128361  ...  0.219100  0.169508  0.409179   \n",
       "558   0.176307  0.133995  0.116350  ...  0.152378  0.294727  0.449277   \n",
       "1429  0.290286  0.105865  0.141208  ...  0.130392  0.209023  0.511179   \n",
       "\n",
       "          ZXDB      ZXDC    ZYG11A    ZYG11B       ZYX     ZZEF1      ZZZ3  \n",
       "1294  0.340735  0.493843  0.189562  0.407518  0.603684  0.739919  0.260905  \n",
       "837   0.324473  0.597460  0.137628  0.463331  0.664662  0.934488  0.406994  \n",
       "1621  0.051494  0.582036  0.098780  0.392550  0.707985  0.542029  0.273688  \n",
       "705   0.220131  0.327394  0.164213  0.347799  0.582531  0.626735  0.347536  \n",
       "783   0.203420  0.335965  0.149116  0.467493  0.485741  0.721266  0.397768  \n",
       "...        ...       ...       ...       ...       ...       ...       ...  \n",
       "1809  0.268301  0.445756  0.210657  0.293436  0.522969  0.492630  0.265062  \n",
       "820   0.110326  0.369813  0.137045  0.279570  0.623411  0.614479  0.343611  \n",
       "1452  0.325230  0.379185  0.180482  0.534211  0.633205  0.613331  0.301850  \n",
       "558   0.116760  0.581970  0.065802  0.762843  0.399978  0.736339  0.580970  \n",
       "1429  0.266425  0.329435  0.155044  0.488515  0.457506  0.484879  0.306736  \n",
       "\n",
       "[100 rows x 14308 columns]"
      ]
     },
     "execution_count": 88,
     "metadata": {},
     "output_type": "execute_result"
    }
   ],
   "source": [
    "x_train"
   ]
  },
  {
   "cell_type": "code",
   "execution_count": 78,
   "metadata": {},
   "outputs": [],
   "source": [
    "from scipy import sparse\n",
    "import networkx as nx\n",
    "\n",
    "adj = sparse.csr_matrix(nx.to_numpy_matrix(neighbors))\n"
   ]
  },
  {
   "cell_type": "code",
   "execution_count": 96,
   "metadata": {},
   "outputs": [],
   "source": [
    "from models.gcn import GCN\n",
    "model = GCN(name=\"GCN_noemb2_lay1_chan64_dropout_agg_hierarchy\", dropout=False, cuda=True, num_layer=1, prepool_extralayers=1, channels=64, embedding=64, aggregation=\"random\", lr=0.001, num_epochs=100, patience=20, verbose=False, seed=2)\n"
   ]
  },
  {
   "cell_type": "code",
   "execution_count": 97,
   "metadata": {},
   "outputs": [
    {
     "name": "stderr",
     "output_type": "stream",
     "text": [
      "/auto/homes/mt675/gene-graph-conv-onto/venv/lib/python3.6/site-packages/scipy/sparse/_index.py:126: SparseEfficiencyWarning: Changing the sparsity structure of a csr_matrix is expensive. lil_matrix is more efficient.\n",
      "  self._set_arrayXarray(i, j, x)\n"
     ]
    },
    {
     "name": "stdout",
     "output_type": "stream",
     "text": [
      "Reducing graph by a factor of 2 to 7154 nodes\n"
     ]
    },
    {
     "ename": "RuntimeError",
     "evalue": "index_add_(): Number of indices should be equal to self.size(dim)",
     "output_type": "error",
     "traceback": [
      "\u001b[0;31m---------------------------------------------------------------------------\u001b[0m",
      "\u001b[0;31mRuntimeError\u001b[0m                              Traceback (most recent call last)",
      "\u001b[0;32m<ipython-input-97-774c439cb12e>\u001b[0m in \u001b[0;36m<module>\u001b[0;34m\u001b[0m\n\u001b[0;32m----> 1\u001b[0;31m \u001b[0mmodel\u001b[0m\u001b[0;34m.\u001b[0m\u001b[0mfit\u001b[0m\u001b[0;34m(\u001b[0m\u001b[0mx_train\u001b[0m\u001b[0;34m,\u001b[0m \u001b[0my_train\u001b[0m\u001b[0;34m,\u001b[0m \u001b[0madj\u001b[0m\u001b[0;34m=\u001b[0m\u001b[0madj\u001b[0m\u001b[0;34m)\u001b[0m\u001b[0;34m\u001b[0m\u001b[0;34m\u001b[0m\u001b[0m\n\u001b[0m",
      "\u001b[0;32m/auto/homes/mt675/gene-graph-conv-onto/models/models.py\u001b[0m in \u001b[0;36mfit\u001b[0;34m(self, X, y, adj)\u001b[0m\n\u001b[1;32m     62\u001b[0m         \u001b[0mself\u001b[0m\u001b[0;34m.\u001b[0m\u001b[0mX\u001b[0m \u001b[0;34m=\u001b[0m \u001b[0mX\u001b[0m\u001b[0;34m\u001b[0m\u001b[0;34m\u001b[0m\u001b[0m\n\u001b[1;32m     63\u001b[0m         \u001b[0mself\u001b[0m\u001b[0;34m.\u001b[0m\u001b[0my\u001b[0m \u001b[0;34m=\u001b[0m \u001b[0my\u001b[0m\u001b[0;34m\u001b[0m\u001b[0;34m\u001b[0m\u001b[0m\n\u001b[0;32m---> 64\u001b[0;31m         \u001b[0mself\u001b[0m\u001b[0;34m.\u001b[0m\u001b[0msetup_layers\u001b[0m\u001b[0;34m(\u001b[0m\u001b[0;34m)\u001b[0m\u001b[0;34m\u001b[0m\u001b[0;34m\u001b[0m\u001b[0m\n\u001b[0m\u001b[1;32m     65\u001b[0m         \u001b[0mx_train\u001b[0m\u001b[0;34m,\u001b[0m \u001b[0mx_valid\u001b[0m\u001b[0;34m,\u001b[0m \u001b[0my_train\u001b[0m\u001b[0;34m,\u001b[0m \u001b[0my_valid\u001b[0m \u001b[0;34m=\u001b[0m \u001b[0msklearn\u001b[0m\u001b[0;34m.\u001b[0m\u001b[0mmodel_selection\u001b[0m\u001b[0;34m.\u001b[0m\u001b[0mtrain_test_split\u001b[0m\u001b[0;34m(\u001b[0m\u001b[0mX\u001b[0m\u001b[0;34m,\u001b[0m \u001b[0my\u001b[0m\u001b[0;34m,\u001b[0m \u001b[0mstratify\u001b[0m\u001b[0;34m=\u001b[0m\u001b[0my\u001b[0m\u001b[0;34m,\u001b[0m \u001b[0mtrain_size\u001b[0m\u001b[0;34m=\u001b[0m\u001b[0mself\u001b[0m\u001b[0;34m.\u001b[0m\u001b[0mtrain_valid_split\u001b[0m\u001b[0;34m,\u001b[0m \u001b[0mtest_size\u001b[0m\u001b[0;34m=\u001b[0m\u001b[0;36m1\u001b[0m\u001b[0;34m-\u001b[0m\u001b[0mself\u001b[0m\u001b[0;34m.\u001b[0m\u001b[0mtrain_valid_split\u001b[0m\u001b[0;34m,\u001b[0m \u001b[0mrandom_state\u001b[0m\u001b[0;34m=\u001b[0m\u001b[0mself\u001b[0m\u001b[0;34m.\u001b[0m\u001b[0mseed\u001b[0m\u001b[0;34m)\u001b[0m\u001b[0;34m\u001b[0m\u001b[0;34m\u001b[0m\u001b[0m\n\u001b[1;32m     66\u001b[0m \u001b[0;34m\u001b[0m\u001b[0m\n",
      "\u001b[0;32m/auto/homes/mt675/gene-graph-conv-onto/models/gcn.py\u001b[0m in \u001b[0;36msetup_layers\u001b[0;34m(self)\u001b[0m\n\u001b[1;32m     33\u001b[0m             \u001b[0;32mraise\u001b[0m \u001b[0mException\u001b[0m\u001b[0;34m(\u001b[0m\u001b[0;34m\"adj must be specified for GCN\"\u001b[0m\u001b[0;34m)\u001b[0m\u001b[0;34m\u001b[0m\u001b[0;34m\u001b[0m\u001b[0m\n\u001b[1;32m     34\u001b[0m         \u001b[0mself\u001b[0m\u001b[0;34m.\u001b[0m\u001b[0madj\u001b[0m \u001b[0;34m=\u001b[0m \u001b[0mscipy\u001b[0m\u001b[0;34m.\u001b[0m\u001b[0msparse\u001b[0m\u001b[0;34m.\u001b[0m\u001b[0mcsr_matrix\u001b[0m\u001b[0;34m(\u001b[0m\u001b[0mself\u001b[0m\u001b[0;34m.\u001b[0m\u001b[0madj\u001b[0m\u001b[0;34m)\u001b[0m\u001b[0;34m\u001b[0m\u001b[0;34m\u001b[0m\u001b[0m\n\u001b[0;32m---> 35\u001b[0;31m         \u001b[0mself\u001b[0m\u001b[0;34m.\u001b[0m\u001b[0madjs\u001b[0m\u001b[0;34m,\u001b[0m \u001b[0mself\u001b[0m\u001b[0;34m.\u001b[0m\u001b[0mcentroids\u001b[0m \u001b[0;34m=\u001b[0m \u001b[0msetup_aggregates\u001b[0m\u001b[0;34m(\u001b[0m\u001b[0mself\u001b[0m\u001b[0;34m.\u001b[0m\u001b[0madj\u001b[0m\u001b[0;34m,\u001b[0m \u001b[0mself\u001b[0m\u001b[0;34m.\u001b[0m\u001b[0mnum_layer\u001b[0m\u001b[0;34m,\u001b[0m \u001b[0mself\u001b[0m\u001b[0;34m.\u001b[0m\u001b[0mX\u001b[0m\u001b[0;34m,\u001b[0m \u001b[0maggregation\u001b[0m\u001b[0;34m=\u001b[0m\u001b[0mself\u001b[0m\u001b[0;34m.\u001b[0m\u001b[0maggregation\u001b[0m\u001b[0;34m,\u001b[0m \u001b[0magg_reduce\u001b[0m\u001b[0;34m=\u001b[0m\u001b[0mself\u001b[0m\u001b[0;34m.\u001b[0m\u001b[0magg_reduce\u001b[0m\u001b[0;34m,\u001b[0m \u001b[0mverbose\u001b[0m\u001b[0;34m=\u001b[0m\u001b[0mself\u001b[0m\u001b[0;34m.\u001b[0m\u001b[0mverbose\u001b[0m\u001b[0;34m)\u001b[0m\u001b[0;34m\u001b[0m\u001b[0;34m\u001b[0m\u001b[0m\n\u001b[0m\u001b[1;32m     36\u001b[0m         \u001b[0mself\u001b[0m\u001b[0;34m.\u001b[0m\u001b[0mnb_nodes\u001b[0m \u001b[0;34m=\u001b[0m \u001b[0mself\u001b[0m\u001b[0;34m.\u001b[0m\u001b[0mX\u001b[0m\u001b[0;34m.\u001b[0m\u001b[0mshape\u001b[0m\u001b[0;34m[\u001b[0m\u001b[0;36m1\u001b[0m\u001b[0;34m]\u001b[0m\u001b[0;34m\u001b[0m\u001b[0;34m\u001b[0m\u001b[0m\n\u001b[1;32m     37\u001b[0m \u001b[0;34m\u001b[0m\u001b[0m\n",
      "\u001b[0;32m/auto/homes/mt675/gene-graph-conv-onto/models/utils.py\u001b[0m in \u001b[0;36msetup_aggregates\u001b[0;34m(adj, nb_layer, x, aggregation, agg_reduce, verbose)\u001b[0m\n\u001b[1;32m    112\u001b[0m         \u001b[0m_\u001b[0m\u001b[0;34m,\u001b[0m \u001b[0mto_keep\u001b[0m \u001b[0;34m=\u001b[0m \u001b[0mnp\u001b[0m\u001b[0;34m.\u001b[0m\u001b[0munique\u001b[0m\u001b[0;34m(\u001b[0m\u001b[0mclusters\u001b[0m\u001b[0;34m,\u001b[0m \u001b[0mreturn_index\u001b[0m\u001b[0;34m=\u001b[0m\u001b[0;32mTrue\u001b[0m\u001b[0;34m)\u001b[0m\u001b[0;34m\u001b[0m\u001b[0;34m\u001b[0m\u001b[0m\n\u001b[1;32m    113\u001b[0m \u001b[0;34m\u001b[0m\u001b[0m\n\u001b[0;32m--> 114\u001b[0;31m         \u001b[0madj\u001b[0m \u001b[0;34m=\u001b[0m \u001b[0mtorch\u001b[0m\u001b[0;34m.\u001b[0m\u001b[0mzeros\u001b[0m\u001b[0;34m(\u001b[0m\u001b[0madj\u001b[0m\u001b[0;34m.\u001b[0m\u001b[0mshape\u001b[0m\u001b[0;34m)\u001b[0m\u001b[0;34m.\u001b[0m\u001b[0mindex_add_\u001b[0m\u001b[0;34m(\u001b[0m\u001b[0;36m1\u001b[0m\u001b[0;34m,\u001b[0m  \u001b[0mtorch\u001b[0m\u001b[0;34m.\u001b[0m\u001b[0mLongTensor\u001b[0m\u001b[0;34m(\u001b[0m\u001b[0mclusters\u001b[0m\u001b[0;34m)\u001b[0m\u001b[0;34m,\u001b[0m \u001b[0mtorch\u001b[0m\u001b[0;34m.\u001b[0m\u001b[0mFloatTensor\u001b[0m\u001b[0;34m(\u001b[0m\u001b[0madj\u001b[0m\u001b[0;34m.\u001b[0m\u001b[0mtodense\u001b[0m\u001b[0;34m(\u001b[0m\u001b[0;34m)\u001b[0m\u001b[0;34m)\u001b[0m\u001b[0;34m)\u001b[0m\u001b[0;34m\u001b[0m\u001b[0;34m\u001b[0m\u001b[0m\n\u001b[0m\u001b[1;32m    115\u001b[0m         \u001b[0madj\u001b[0m \u001b[0;34m=\u001b[0m \u001b[0mtorch\u001b[0m\u001b[0;34m.\u001b[0m\u001b[0mindex_select\u001b[0m\u001b[0;34m(\u001b[0m\u001b[0madj\u001b[0m\u001b[0;34m,\u001b[0m \u001b[0;36m1\u001b[0m\u001b[0;34m,\u001b[0m \u001b[0mtorch\u001b[0m\u001b[0;34m.\u001b[0m\u001b[0mLongTensor\u001b[0m\u001b[0;34m(\u001b[0m\u001b[0mto_keep\u001b[0m\u001b[0;34m)\u001b[0m\u001b[0;34m)\u001b[0m\u001b[0;34m[\u001b[0m\u001b[0;34m:\u001b[0m\u001b[0mlen\u001b[0m\u001b[0;34m(\u001b[0m\u001b[0mto_keep\u001b[0m\u001b[0;34m)\u001b[0m\u001b[0;34m]\u001b[0m\u001b[0;34m\u001b[0m\u001b[0;34m\u001b[0m\u001b[0m\n\u001b[1;32m    116\u001b[0m         \u001b[0madj\u001b[0m \u001b[0;34m=\u001b[0m \u001b[0msparse\u001b[0m\u001b[0;34m.\u001b[0m\u001b[0mcsr_matrix\u001b[0m\u001b[0;34m(\u001b[0m\u001b[0madj\u001b[0m \u001b[0;34m>\u001b[0m \u001b[0;36m0\u001b[0m\u001b[0;34m)\u001b[0m\u001b[0;34m\u001b[0m\u001b[0;34m\u001b[0m\u001b[0m\n",
      "\u001b[0;31mRuntimeError\u001b[0m: index_add_(): Number of indices should be equal to self.size(dim)"
     ]
    }
   ],
   "source": [
    "model.fit(x_train, y_train, adj=adj)\n"
   ]
  },
  {
   "cell_type": "code",
   "execution_count": null,
   "metadata": {},
   "outputs": [],
   "source": [
    "y_hat = model.predict(x_test)\n",
    "y_hat = np.argmax(y_hat, axis=1)\n",
    "# auc = sklearn.metrics.roc_auc_score(y_test, np.asarray(y_hat).flatten(), multi_class='ovo')\n",
    "acc = sklearn.metrics.accuracy_score(y_test, np.asarray(y_hat).flatten())\n",
    "acc"
   ]
  },
  {
   "cell_type": "code",
   "execution_count": 13,
   "metadata": {},
   "outputs": [
    {
     "ename": "AttributeError",
     "evalue": "'GCNLayer' object has no attribute 'in_features'",
     "output_type": "error",
     "traceback": [
      "\u001b[0;31m---------------------------------------------------------------------------\u001b[0m",
      "\u001b[0;31mAttributeError\u001b[0m                            Traceback (most recent call last)",
      "\u001b[0;32m<ipython-input-13-cb43d2327743>\u001b[0m in \u001b[0;36m<module>\u001b[0;34m\u001b[0m\n\u001b[0;32m----> 1\u001b[0;31m \u001b[0mmodel\u001b[0m\u001b[0;34m.\u001b[0m\u001b[0mget_representation\u001b[0m\u001b[0;34m(\u001b[0m\u001b[0;34m)\u001b[0m\u001b[0;34m\u001b[0m\u001b[0;34m\u001b[0m\u001b[0m\n\u001b[0m",
      "\u001b[0;32m/auto/homes/mt675/gene-graph-conv-onto/models/gcn.py\u001b[0m in \u001b[0;36mget_representation\u001b[0;34m(self)\u001b[0m\n\u001b[1;32m    149\u001b[0m \u001b[0;34m\u001b[0m\u001b[0m\n\u001b[1;32m    150\u001b[0m             \u001b[0;32melse\u001b[0m\u001b[0;34m:\u001b[0m\u001b[0;34m\u001b[0m\u001b[0;34m\u001b[0m\u001b[0m\n\u001b[0;32m--> 151\u001b[0;31m                 \u001b[0madd_rep\u001b[0m\u001b[0;34m(\u001b[0m\u001b[0mlayer\u001b[0m\u001b[0;34m,\u001b[0m \u001b[0;34m'layer_{}'\u001b[0m\u001b[0;34m.\u001b[0m\u001b[0mformat\u001b[0m\u001b[0;34m(\u001b[0m\u001b[0mi\u001b[0m\u001b[0;34m)\u001b[0m\u001b[0;34m,\u001b[0m \u001b[0mrepresentation\u001b[0m\u001b[0;34m)\u001b[0m\u001b[0;34m\u001b[0m\u001b[0;34m\u001b[0m\u001b[0m\n\u001b[0m\u001b[1;32m    152\u001b[0m \u001b[0;34m\u001b[0m\u001b[0m\n\u001b[1;32m    153\u001b[0m         \u001b[0madd_rep\u001b[0m\u001b[0;34m(\u001b[0m\u001b[0mself\u001b[0m\u001b[0;34m.\u001b[0m\u001b[0mmy_logistic_layers\u001b[0m\u001b[0;34m[\u001b[0m\u001b[0;34m-\u001b[0m\u001b[0;36m1\u001b[0m\u001b[0;34m]\u001b[0m\u001b[0;34m,\u001b[0m \u001b[0;34m'logistic'\u001b[0m\u001b[0;34m,\u001b[0m \u001b[0mrepresentation\u001b[0m\u001b[0;34m)\u001b[0m\u001b[0;34m\u001b[0m\u001b[0;34m\u001b[0m\u001b[0m\n",
      "\u001b[0;32m/auto/homes/mt675/gene-graph-conv-onto/models/gcn.py\u001b[0m in \u001b[0;36madd_rep\u001b[0;34m(layer, name, rep)\u001b[0m\n\u001b[1;32m    135\u001b[0m     \u001b[0;32mdef\u001b[0m \u001b[0mget_representation\u001b[0m\u001b[0;34m(\u001b[0m\u001b[0mself\u001b[0m\u001b[0;34m)\u001b[0m\u001b[0;34m:\u001b[0m\u001b[0;34m\u001b[0m\u001b[0;34m\u001b[0m\u001b[0m\n\u001b[1;32m    136\u001b[0m         \u001b[0;32mdef\u001b[0m \u001b[0madd_rep\u001b[0m\u001b[0;34m(\u001b[0m\u001b[0mlayer\u001b[0m\u001b[0;34m,\u001b[0m \u001b[0mname\u001b[0m\u001b[0;34m,\u001b[0m \u001b[0mrep\u001b[0m\u001b[0;34m)\u001b[0m\u001b[0;34m:\u001b[0m\u001b[0;34m\u001b[0m\u001b[0;34m\u001b[0m\u001b[0m\n\u001b[0;32m--> 137\u001b[0;31m             \u001b[0mrep\u001b[0m\u001b[0;34m[\u001b[0m\u001b[0mname\u001b[0m\u001b[0;34m]\u001b[0m \u001b[0;34m=\u001b[0m \u001b[0;34m{\u001b[0m\u001b[0;34m'input'\u001b[0m\u001b[0;34m:\u001b[0m \u001b[0mlayer\u001b[0m\u001b[0;34m.\u001b[0m\u001b[0min_features\u001b[0m\u001b[0;34m,\u001b[0m \u001b[0;34m'output'\u001b[0m\u001b[0;34m:\u001b[0m \u001b[0mlayer\u001b[0m\u001b[0;34m.\u001b[0m\u001b[0mout_features\u001b[0m\u001b[0;34m}\u001b[0m\u001b[0;34m\u001b[0m\u001b[0;34m\u001b[0m\u001b[0m\n\u001b[0m\u001b[1;32m    138\u001b[0m \u001b[0;34m\u001b[0m\u001b[0m\n\u001b[1;32m    139\u001b[0m         \u001b[0mrepresentation\u001b[0m \u001b[0;34m=\u001b[0m \u001b[0;34m{\u001b[0m\u001b[0;34m}\u001b[0m\u001b[0;34m\u001b[0m\u001b[0;34m\u001b[0m\u001b[0m\n",
      "\u001b[0;32m/auto/homes/mt675/gene-graph-conv-onto/venv/lib/python3.6/site-packages/torch/nn/modules/module.py\u001b[0m in \u001b[0;36m__getattr__\u001b[0;34m(self, name)\u001b[0m\n\u001b[1;32m    574\u001b[0m                 \u001b[0;32mreturn\u001b[0m \u001b[0mmodules\u001b[0m\u001b[0;34m[\u001b[0m\u001b[0mname\u001b[0m\u001b[0;34m]\u001b[0m\u001b[0;34m\u001b[0m\u001b[0;34m\u001b[0m\u001b[0m\n\u001b[1;32m    575\u001b[0m         raise AttributeError(\"'{}' object has no attribute '{}'\".format(\n\u001b[0;32m--> 576\u001b[0;31m             type(self).__name__, name))\n\u001b[0m\u001b[1;32m    577\u001b[0m \u001b[0;34m\u001b[0m\u001b[0m\n\u001b[1;32m    578\u001b[0m     \u001b[0;32mdef\u001b[0m \u001b[0m__setattr__\u001b[0m\u001b[0;34m(\u001b[0m\u001b[0mself\u001b[0m\u001b[0;34m,\u001b[0m \u001b[0mname\u001b[0m\u001b[0;34m,\u001b[0m \u001b[0mvalue\u001b[0m\u001b[0;34m)\u001b[0m\u001b[0;34m:\u001b[0m\u001b[0;34m\u001b[0m\u001b[0;34m\u001b[0m\u001b[0m\n",
      "\u001b[0;31mAttributeError\u001b[0m: 'GCNLayer' object has no attribute 'in_features'"
     ]
    }
   ],
   "source": [
    "model.get_representation()"
   ]
  },
  {
   "cell_type": "code",
   "execution_count": 14,
   "metadata": {},
   "outputs": [
    {
     "data": {
      "text/plain": [
       "ModuleList(\n",
       "  (0): GCNLayer(\n",
       "    (linear): Conv1d(64, 32, kernel_size=(1,), stride=(1,))\n",
       "    (eye_linear): Conv1d(64, 32, kernel_size=(1,), stride=(1,))\n",
       "  )\n",
       ")"
      ]
     },
     "execution_count": 14,
     "metadata": {},
     "output_type": "execute_result"
    }
   ],
   "source": [
    "model.conv_layers"
   ]
  },
  {
   "cell_type": "code",
   "execution_count": 15,
   "metadata": {},
   "outputs": [
    {
     "data": {
      "text/plain": [
       "<generator object Module.parameters at 0x7efff8385d00>"
      ]
     },
     "execution_count": 15,
     "metadata": {},
     "output_type": "execute_result"
    }
   ],
   "source": [
    "model.my_logistic_layers.parameters()"
   ]
  },
  {
   "cell_type": "code",
   "execution_count": 16,
   "metadata": {},
   "outputs": [
    {
     "data": {
      "text/plain": [
       "[array([  0, 119, 521, 698, 585, 467, 449, 697, 926, 686, 509, 743, 280,\n",
       "        257, 544, 401, 708, 989, 192, 640, 318, 634,   9, 693, 761, 890,\n",
       "        811, 854, 587, 522, 532, 101, 598, 543, 610, 648, 679, 227, 779,\n",
       "        978, 376, 841, 739, 128, 114,  50, 150, 791,  55, 659, 891, 154,\n",
       "        354, 267, 263, 179, 867, 514, 984, 674, 975, 433, 863, 703, 754,\n",
       "        256, 582, 988, 453, 269, 879, 356, 726, 483, 147, 480, 351, 232,\n",
       "        133, 288, 577, 466, 731, 465, 235, 728, 727, 616,  81, 203, 954,\n",
       "        881, 388, 472, 562, 559, 614, 667, 900, 152, 441, 438, 405, 973,\n",
       "        487, 151, 813, 662, 121, 664,  93, 613,  14, 187,  80, 271, 802,\n",
       "        785,  73, 591, 555, 248, 247, 329, 736, 737, 623, 528, 503, 547,\n",
       "        108, 113, 556, 747, 511, 563, 139, 692, 334, 990, 258, 129,  17,\n",
       "        212,  36, 149, 276, 284, 684, 714, 324, 695, 745, 654, 827, 500,\n",
       "        956, 196, 606, 797, 407, 328, 800,  21, 378, 525,  48, 109, 930,\n",
       "        358, 539,  76, 600, 451, 592, 557, 985,  70, 603,  35,  19, 252,\n",
       "        991, 210, 657, 233, 168, 871, 137, 927,  37, 475, 498, 310, 470,\n",
       "        223, 340, 364, 306, 763, 968, 286, 656, 344, 124, 994, 845, 357,\n",
       "        208, 347,  22, 588, 448, 773, 473, 175, 711, 146, 291, 359, 967,\n",
       "        268, 515, 228, 997, 336,  30, 299, 510, 884, 362, 584,  42, 964,\n",
       "        870, 936, 311, 611, 729, 476,  85, 941, 195, 529, 434,  45, 377,\n",
       "        145, 102, 463, 445, 478, 895, 639, 513, 578, 670, 531, 790, 534,\n",
       "        969, 394, 970, 218, 766, 440,  13, 937, 343, 707, 231, 206,  54,\n",
       "        456, 852, 174, 384, 186, 915, 725, 158, 685, 601,  92,   7, 753,\n",
       "         86, 530, 702, 765, 775, 715, 545, 995, 496, 437, 389, 608, 821,\n",
       "        947, 658, 750, 987, 411,  78, 602, 244, 574, 952, 488, 934, 181,\n",
       "        274, 424, 406, 303, 561, 860, 505, 615, 798, 945, 468, 126, 305,\n",
       "        471,  56,  79, 524, 162, 331, 425, 924, 621, 764, 668, 294, 136,\n",
       "         60, 793, 946, 443, 689, 733, 672,  83, 807, 380, 633,  66, 719,\n",
       "        716, 804, 304, 756, 353, 567, 878, 366, 396, 572, 535, 542,  67,\n",
       "        781, 982, 518,  43, 814, 409, 163, 965, 892, 746, 755, 935, 680,\n",
       "        831, 724, 792, 647, 820, 506, 400, 302, 211,  68, 242, 974, 165,\n",
       "        371, 550, 279, 499, 261, 818, 837, 683, 607, 803, 850, 677, 275,\n",
       "        873, 865, 595,  40, 842, 886, 617, 484, 205,   2, 238, 979, 701,\n",
       "        289, 605, 219, 786, 201, 744, 111, 272, 897, 998, 741, 710, 123,\n",
       "        835, 718, 251,  75, 580, 355, 903, 382, 552, 266,  46, 370, 938,\n",
       "        853,  28, 752, 183,  98, 977, 551, 281, 330, 986,  38, 862, 278,\n",
       "        379, 575, 671,  91, 717,  11, 292, 194, 300, 338,  77,  52, 224,\n",
       "        360, 481, 327, 171, 643, 966, 421, 911, 959, 221, 906, 429, 928,\n",
       "        882, 857, 908,  64, 794, 112, 185, 914, 624, 320, 282, 898, 127,\n",
       "        620, 237, 796, 200, 590, 464])]"
      ]
     },
     "execution_count": 16,
     "metadata": {},
     "output_type": "execute_result"
    }
   ],
   "source": [
    "model.centroids"
   ]
  },
  {
   "cell_type": "code",
   "execution_count": 17,
   "metadata": {},
   "outputs": [],
   "source": [
    "def count_parameters(model):\n",
    "    return sum(p.numel() for p in model.parameters() if p.requires_grad)"
   ]
  },
  {
   "cell_type": "code",
   "execution_count": 22,
   "metadata": {},
   "outputs": [
    {
     "data": {
      "text/plain": [
       "4096"
      ]
     },
     "execution_count": 22,
     "metadata": {},
     "output_type": "execute_result"
    }
   ],
   "source": [
    "64*64"
   ]
  },
  {
   "cell_type": "code",
   "execution_count": 46,
   "metadata": {},
   "outputs": [
    {
     "data": {
      "text/plain": [
       "389125"
      ]
     },
     "execution_count": 46,
     "metadata": {},
     "output_type": "execute_result"
    }
   ],
   "source": [
    "count_parameters(model)"
   ]
  },
  {
   "cell_type": "code",
   "execution_count": 10,
   "metadata": {},
   "outputs": [
    {
     "name": "stderr",
     "output_type": "stream",
     "text": [
      "INFO:root:Constructing the network...\n",
      "INFO:root:Done!\n"
     ]
    }
   ],
   "source": [
    "from models.mlp import MLP\n",
    "model2 = MLP(name=\"MLP_lay2_chan64\", cuda=True, dropout=False, num_layer=2, channels=64, lr=0.001, patience=30)\n",
    "model2.fit(X_train, y_train)\n"
   ]
  },
  {
   "cell_type": "code",
   "execution_count": 11,
   "metadata": {},
   "outputs": [
    {
     "data": {
      "text/plain": [
       "0.6375"
      ]
     },
     "execution_count": 11,
     "metadata": {},
     "output_type": "execute_result"
    }
   ],
   "source": [
    "model2.eval()\n",
    "y_hat = model2.predict(X_test)\n",
    "y_hat = np.argmax(y_hat, axis=1)\n",
    "# auc = sklearn.metrics.roc_auc_score(y_test, np.asarray(y_hat).flatten(), multi_class='ovo')\n",
    "acc = sklearn.metrics.accuracy_score(y_test, np.asarray(y_hat).flatten())\n",
    "acc"
   ]
  },
  {
   "cell_type": "code",
   "execution_count": 70,
   "metadata": {},
   "outputs": [
    {
     "data": {
      "text/plain": [
       "1564101"
      ]
     },
     "execution_count": 70,
     "metadata": {},
     "output_type": "execute_result"
    }
   ],
   "source": [
    "count_parameters(model2)\n"
   ]
  },
  {
   "cell_type": "code",
   "execution_count": 18,
   "metadata": {},
   "outputs": [],
   "source": [
    "import warnings\n",
    "warnings.filterwarnings('ignore')"
   ]
  },
  {
   "cell_type": "code",
   "execution_count": 19,
   "metadata": {},
   "outputs": [
    {
     "name": "stderr",
     "output_type": "stream",
     "text": [
      "INFO:root:Constructing the network...\n",
      "INFO:root:Done!\n",
      "INFO:root:Constructing the network...\n",
      "INFO:root:Done!\n"
     ]
    },
    {
     "name": "stdout",
     "output_type": "stream",
     "text": [
      "0 0.0001 1 0.75\n"
     ]
    },
    {
     "name": "stderr",
     "output_type": "stream",
     "text": [
      "INFO:root:Constructing the network...\n",
      "INFO:root:Done!\n"
     ]
    },
    {
     "name": "stdout",
     "output_type": "stream",
     "text": [
      "0 0.0001 2 0.775\n"
     ]
    },
    {
     "name": "stderr",
     "output_type": "stream",
     "text": [
      "INFO:root:Constructing the network...\n",
      "INFO:root:Done!\n"
     ]
    },
    {
     "name": "stdout",
     "output_type": "stream",
     "text": [
      "0 0.0001 3 0.76\n"
     ]
    },
    {
     "name": "stderr",
     "output_type": "stream",
     "text": [
      "INFO:root:Constructing the network...\n",
      "INFO:root:Done!\n"
     ]
    },
    {
     "name": "stdout",
     "output_type": "stream",
     "text": [
      "1 0.0001 1 0.7575\n"
     ]
    },
    {
     "name": "stderr",
     "output_type": "stream",
     "text": [
      "INFO:root:Constructing the network...\n",
      "INFO:root:Done!\n"
     ]
    },
    {
     "name": "stdout",
     "output_type": "stream",
     "text": [
      "1 0.0001 2 0.7625\n"
     ]
    },
    {
     "name": "stderr",
     "output_type": "stream",
     "text": [
      "INFO:root:Constructing the network...\n",
      "INFO:root:Done!\n"
     ]
    },
    {
     "name": "stdout",
     "output_type": "stream",
     "text": [
      "1 0.0001 3 0.75\n"
     ]
    },
    {
     "name": "stderr",
     "output_type": "stream",
     "text": [
      "INFO:root:Constructing the network...\n",
      "INFO:root:Done!\n"
     ]
    },
    {
     "name": "stdout",
     "output_type": "stream",
     "text": [
      "0 0.001 1 0.76\n"
     ]
    },
    {
     "name": "stderr",
     "output_type": "stream",
     "text": [
      "INFO:root:Constructing the network...\n",
      "INFO:root:Done!\n"
     ]
    },
    {
     "name": "stdout",
     "output_type": "stream",
     "text": [
      "0 0.001 2 0.7475\n"
     ]
    },
    {
     "name": "stderr",
     "output_type": "stream",
     "text": [
      "INFO:root:Constructing the network...\n",
      "INFO:root:Done!\n"
     ]
    },
    {
     "name": "stdout",
     "output_type": "stream",
     "text": [
      "0 0.001 3 0.7475\n"
     ]
    },
    {
     "name": "stderr",
     "output_type": "stream",
     "text": [
      "INFO:root:Constructing the network...\n",
      "INFO:root:Done!\n"
     ]
    },
    {
     "name": "stdout",
     "output_type": "stream",
     "text": [
      "1 0.001 1 0.765\n"
     ]
    },
    {
     "name": "stderr",
     "output_type": "stream",
     "text": [
      "INFO:root:Constructing the network...\n",
      "INFO:root:Done!\n"
     ]
    },
    {
     "name": "stdout",
     "output_type": "stream",
     "text": [
      "1 0.001 2 0.755\n",
      "1 0.001 3 0.7725\n"
     ]
    }
   ],
   "source": [
    "for lr in [0.0001,0.001]:\n",
    "    for seed in [0,1]:\n",
    "        for num_layer in [1,2,3]:\n",
    "            model = models.mlp.MLP(name=\"MLP_lay1_chan256\",\n",
    "                                   num_layer=num_layer, \n",
    "                                   channels=64, \n",
    "                                   lr=lr,\n",
    "                                   patience=30,\n",
    "                                   cuda=True,\n",
    "                                   metric=sklearn.metrics.accuracy_score,\n",
    "                                   verbose=False,\n",
    "                                   seed=seed)\n",
    "\n",
    "            model.fit(X_train, y_train)\n",
    "\n",
    "            y_valid_pred = model.predict(X_test)\n",
    "            print(seed, lr, num_layer, sklearn.metrics.accuracy_score(y_test, np.argmax(y_valid_pred,axis=1)))"
   ]
  },
  {
   "cell_type": "code",
   "execution_count": 17,
   "metadata": {},
   "outputs": [
    {
     "name": "stderr",
     "output_type": "stream",
     "text": [
      "INFO:root:Constructing the network...\n",
      "INFO:root:Done!\n",
      "INFO:root:Constructing the network...\n",
      "INFO:root:Done!\n",
      "INFO:root:Constructing the network...\n",
      "INFO:root:Done!\n",
      "INFO:root:Constructing the network...\n",
      "INFO:root:Done!\n",
      "INFO:root:Constructing the network...\n",
      "INFO:root:Done!\n"
     ]
    },
    {
     "name": "stdout",
     "output_type": "stream",
     "text": [
      "0.7315 0.023484037131634748\n"
     ]
    }
   ],
   "source": [
    "acc = []\n",
    "\n",
    "for seed in range(5):\n",
    "    X_train, X_test, y_train, y_test = sklearn.model_selection.train_test_split(features, \n",
    "                                                        target.to_numpy(), \n",
    "                                                        stratify=target.to_numpy(),\n",
    "                                                        train_size=1000,\n",
    "                                                        test_size=400,\n",
    "                                                        shuffle=True,\n",
    "                                                        random_state=seed\n",
    "                                                        )\n",
    "    model2 = MLP(name=\"MLP_lay2_chan64\", cuda=True, dropout=False, num_layer=2, channels=64, lr=0.0001, patience=30, seed=seed)\n",
    "    model2.fit(X_train, y_train)\n",
    "    model2.eval()\n",
    "    y_hat = model2.predict(X_test)\n",
    "    y_hat = np.argmax(y_hat, axis=1)\n",
    "    a = sklearn.metrics.accuracy_score(y_test, np.asarray(y_hat).flatten())\n",
    "    print(a)\n",
    "    acc.append(a)\n",
    "\n",
    "print(np.mean(acc), np.std(acc))"
   ]
  },
  {
   "cell_type": "code",
   "execution_count": 49,
   "metadata": {},
   "outputs": [
    {
     "name": "stdout",
     "output_type": "stream",
     "text": [
      " loading from cache file/auto/homes/mt675/gene-graph-conv-onto/data/graphs/ontology_el_500.adjlist.gz\n",
      "500 el 13866 4600773\n",
      " loading from cache file/auto/homes/mt675/gene-graph-conv-onto/data/graphs/ontology_dl2vec_500.adjlist.gz\n",
      "500 dl2vec 17591 7976452\n",
      " loading from cache file/auto/homes/mt675/gene-graph-conv-onto/data/graphs/ontology_opa2vec_500.adjlist.gz\n",
      "500 opa2vec 20258 8401561\n",
      " loading from cache file/auto/homes/mt675/gene-graph-conv-onto/data/graphs/ontology_opa2vec_go_500.adjlist.gz\n",
      "500 opa2vec_go 17580 7320451\n",
      " loading from cache file/auto/homes/mt675/gene-graph-conv-onto/data/graphs/ontology_el_100.adjlist.gz\n",
      "100 el 13866 979948\n",
      " loading from cache file/auto/homes/mt675/gene-graph-conv-onto/data/graphs/ontology_dl2vec_100.adjlist.gz\n",
      "100 dl2vec 17591 1542359\n",
      " loading from cache file/auto/homes/mt675/gene-graph-conv-onto/data/graphs/ontology_opa2vec_100.adjlist.gz\n",
      "100 opa2vec 20258 1731962\n",
      " loading from cache file/auto/homes/mt675/gene-graph-conv-onto/data/graphs/ontology_opa2vec_go_100.adjlist.gz\n",
      "100 opa2vec_go 17580 1516432\n",
      " loading from cache file/auto/homes/mt675/gene-graph-conv-onto/data/graphs/ontology_el_10.adjlist.gz\n",
      "10 el 13866 103104\n",
      " loading from cache file/auto/homes/mt675/gene-graph-conv-onto/data/graphs/ontology_dl2vec_10.adjlist.gz\n",
      "10 dl2vec 17591 150068\n",
      " loading from cache file/auto/homes/mt675/gene-graph-conv-onto/data/graphs/ontology_opa2vec_10.adjlist.gz\n",
      "10 opa2vec 20258 179935\n",
      " loading from cache file/auto/homes/mt675/gene-graph-conv-onto/data/graphs/ontology_opa2vec_go_10.adjlist.gz\n",
      "10 opa2vec_go 17580 157359\n"
     ]
    }
   ],
   "source": [
    "for n in [500, 100, 10]:\n",
    "    for emb in ['el', 'dl2vec', 'opa2vec', 'opa2vec_go']:\n",
    "        g = data.gene_graphs.OntologyGraph(neighbors=n, embeddings_name=emb) \n",
    "        print(n,emb,len(g.nx_graph.nodes), len(g.nx_graph.edges))\n",
    "        \n",
    "        "
   ]
  },
  {
   "cell_type": "code",
   "execution_count": 21,
   "metadata": {},
   "outputs": [
    {
     "name": "stdout",
     "output_type": "stream",
     "text": [
      " loading from cache file/auto/homes/mt675/gene-graph-conv-onto/data/graphs/genemania.adjlist.gz\n",
      " loading from cache file../data/graphs/stringdb_graph_all_edges.adjlist\n",
      "16300 264657\n",
      "18851 5703510\n"
     ]
    }
   ],
   "source": [
    "for g in [data.gene_graphs.GeneManiaGraph(), \n",
    "            data.gene_graphs.StringDBGraph(datastore=\"../data\")]:\n",
    "    print(len(g.nx_graph.nodes), len(g.nx_graph.edges))"
   ]
  }
 ],
 "metadata": {
  "kernelspec": {
   "display_name": "Python 3",
   "language": "python",
   "name": "python3"
  },
  "language_info": {
   "codemirror_mode": {
    "name": "ipython",
    "version": 3
   },
   "file_extension": ".py",
   "mimetype": "text/x-python",
   "name": "python",
   "nbconvert_exporter": "python",
   "pygments_lexer": "ipython3",
   "version": "3.7.4"
  }
 },
 "nbformat": 4,
 "nbformat_minor": 4
}